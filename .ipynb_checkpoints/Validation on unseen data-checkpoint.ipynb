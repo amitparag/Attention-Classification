{
 "cells": [
  {
   "cell_type": "code",
   "execution_count": null,
   "id": "bb57b523-8ac1-47ef-8356-ccbe0c2b083f",
   "metadata": {},
   "outputs": [],
   "source": [
    "### Validation on Unseen data\n",
    "\n"
   ]
  },
  {
   "cell_type": "code",
   "execution_count": 2,
   "id": "a7e24491-ee1a-4b0b-b80f-a04a3a340416",
   "metadata": {},
   "outputs": [
    {
     "data": {
      "text/plain": [
       "device(type='cpu')"
      ]
     },
     "execution_count": 2,
     "metadata": {},
     "output_type": "execute_result"
    }
   ],
   "source": [
    "from __future__ import print_function\n",
    "\n",
    "\n",
    "import os\n",
    "import glob\n",
    "import numpy as np\n",
    "import torch\n",
    "import torch.nn as nn\n",
    "from torch.utils.data import DataLoader, Dataset\n",
    "\n",
    "from vit_pytorch.vivit import ViT\n",
    "from train import VideoDataset, data_transform\n",
    "torch.device('cpu')"
   ]
  },
  {
   "cell_type": "code",
   "execution_count": null,
   "id": "d0d4ddeb-cc19-4acb-b917-49baccf53740",
   "metadata": {},
   "outputs": [],
   "source": []
  },
  {
   "cell_type": "code",
   "execution_count": 3,
   "id": "c45e6f42-c500-4880-ba49-83a0786a4d03",
   "metadata": {},
   "outputs": [],
   "source": [
    "root_dir    = './dataset/unseen_validation_data/'\n",
    "val_dir     = os.path.join(root_dir, 'validation')\n",
    "val_dataset     = VideoDataset(val_dir, transform=data_transform)\n",
    "\n",
    "\n",
    "validation_dataloader   = DataLoader(val_dataset, batch_size=1, shuffle=True)"
   ]
  },
  {
   "cell_type": "code",
   "execution_count": 4,
   "id": "283eb334-fc49-4bb3-9429-f158fa33d746",
   "metadata": {},
   "outputs": [],
   "source": [
    "model = ViT(\n",
    "        image_size = (240,320),          # image size - height and width\n",
    "        frames = 5,                    # number of frames\n",
    "        image_patch_size = (80,80),      # image patch size\n",
    "        frame_patch_size = 5,           # frame patch size\n",
    "        num_classes = 2,\n",
    "        dim = 64,\n",
    "        spatial_depth = 4,               # depth of the spatial transformer\n",
    "        temporal_depth = 4,              # depth of the temporal transformer\n",
    "        heads = 4,\n",
    "        mlp_dim = 128\n",
    "    )\n",
    "\n"
   ]
  },
  {
   "cell_type": "code",
   "execution_count": 5,
   "id": "4a516cd7-f69e-4c9f-be5c-f967c9b41e2d",
   "metadata": {},
   "outputs": [],
   "source": [
    "### Read all files in the checkpoint folder that start with 'checkpoint'\n",
    "checkpoint_folder = './checkpoints'\n",
    "\n",
    "checkpoint_files = glob.glob(f\"{checkpoint_folder}/checkpoint*.pt\")"
   ]
  },
  {
   "cell_type": "code",
   "execution_count": 6,
   "id": "70e9cdbc-0612-46c2-bad4-f4b44dceacc3",
   "metadata": {},
   "outputs": [
    {
     "name": "stdout",
     "output_type": "stream",
     "text": [
      "Validation Loss: 0.0010\n",
      "Validation Accuracy: 100.00%\n",
      "Validation Loss: 0.3766\n",
      "Validation Accuracy: 76.19%\n",
      "Validation Loss: 0.0003\n",
      "Validation Accuracy: 100.00%\n",
      "Validation Loss: 0.0002\n",
      "Validation Accuracy: 100.00%\n",
      "Validation Loss: 0.0007\n",
      "Validation Accuracy: 100.00%\n",
      "Validation Loss: 0.0002\n",
      "Validation Accuracy: 100.00%\n",
      "Validation Loss: 0.0045\n",
      "Validation Accuracy: 100.00%\n",
      "Validation Loss: 0.0004\n",
      "Validation Accuracy: 100.00%\n",
      "Validation Loss: 0.0016\n",
      "Validation Accuracy: 100.00%\n",
      "Validation Loss: 0.6461\n",
      "Validation Accuracy: 66.67%\n",
      "Validation Loss: 0.0005\n",
      "Validation Accuracy: 100.00%\n"
     ]
    }
   ],
   "source": [
    "\n",
    "\n",
    "\n",
    "## Calculate validation losses and accuracy along with epoch stamp\n",
    "\n",
    "validation_losses = []\n",
    "validation_accuracy = []\n",
    "epochs = []\n",
    "train_losses = []\n",
    "test_losses = []\n",
    "test_accuracy = []\n",
    "\n",
    "for checkpoint_file in checkpoint_files:\n",
    "\n",
    "    # Load the checkpoint\n",
    "    checkpoint = torch.load(checkpoint_file)\n",
    "    \n",
    "    # Extract the loss values and epoch from the checkpoint\n",
    "    checkpoint_train_losses  = checkpoint['train_loss']\n",
    "    checkpoint_test_losses   = checkpoint['test_loss']\n",
    "    checkpoint_test_accuracy = checkpoint['test_accuracy']\n",
    "\n",
    "    checkpoint_epochs = checkpoint['epoch']\n",
    "    \n",
    "    # Append the loss values and epochs to the respective lists\n",
    "    train_losses.append(checkpoint_train_losses)\n",
    "    test_losses.append(checkpoint_test_losses)\n",
    "    test_accuracy.append(checkpoint_test_accuracy)\n",
    "    epochs.append(checkpoint_epochs)\n",
    "\n",
    "criterion = nn.CrossEntropyLoss()\n",
    "\n",
    "\n",
    "for checkpoint_file in checkpoint_files:\n",
    "\n",
    "    # Load the checkpoint\n",
    "    checkpoint  = torch.load(checkpoint_file)\n",
    "    checkpoint_epochs = checkpoint['epoch']\n",
    "\n",
    "\n",
    "    model.load_state_dict(checkpoint['model_state_dict'])\n",
    "\n",
    "    \n",
    "    model.eval()  # Set the model to evaluation mode\n",
    "    \n",
    "    # Initialize variables to keep track of accuracy and loss\n",
    "    total_samples = 0\n",
    "    correct_predictions = 0\n",
    "    total_loss = 0.0\n",
    "    \n",
    "    with torch.no_grad():\n",
    "        for inputs, labels in validation_dataloader:\n",
    "    \n",
    "    \n",
    "            # Forward pass\n",
    "            outputs = model(inputs)\n",
    "            loss = criterion(outputs, labels)\n",
    "    \n",
    "            # Calculate accuracy\n",
    "            _, predicted = torch.max(outputs, 1)\n",
    "            total_samples += labels.size(0)\n",
    "            correct_predictions += (predicted == labels).sum().item()\n",
    "            total_loss += loss.item()\n",
    "    \n",
    "    # Calculate accuracy and loss\n",
    "    accuracy = correct_predictions / total_samples\n",
    "    average_loss = total_loss / len(validation_dataloader)\n",
    "    epochs.append(checkpoint_epochs)\n",
    "    validation_losses.append(average_loss)\n",
    "    validation_accuracy.append(accuracy)\n",
    "    print(f\"Validation Loss: {average_loss:.4f}\")\n",
    "    print(f\"Validation Accuracy: {accuracy * 100:.2f}%\")\n",
    "\n",
    "    # Save validation loss and accuracy to the checkpoint\n",
    "    checkpoint['validation_loss'] = average_loss\n",
    "    checkpoint['validation_accuracy'] = accuracy\n",
    "    \n",
    "    # Save the updated checkpoint\n",
    "    torch.save(checkpoint, checkpoint_file)\n",
    "\n"
   ]
  },
  {
   "cell_type": "code",
   "execution_count": null,
   "id": "2ed71db1-38b4-4584-b495-e61c7c7b0106",
   "metadata": {},
   "outputs": [],
   "source": []
  },
  {
   "cell_type": "code",
   "execution_count": 7,
   "id": "4283a740-eede-4718-9d86-39c1c67ddac7",
   "metadata": {},
   "outputs": [],
   "source": [
    "\n",
    "\n"
   ]
  },
  {
   "cell_type": "code",
   "execution_count": 8,
   "id": "0aa6ea03-8cc7-49b0-92c2-fddc2b84f8c1",
   "metadata": {},
   "outputs": [],
   "source": [
    "## Sort the lists according to epochs \n",
    "\n",
    "\n",
    "# Zip the lists together based on epochs\n",
    "zipped_data = list(zip(validation_losses, validation_accuracy, test_accuracy, epochs))\n",
    "\n",
    "# Sort the zipped data based on epochs (ascending order)\n",
    "zipped_data.sort(key=lambda x: x[-1])  # Assuming epochs are the last element in the tuple\n",
    "\n",
    "# Unzip the sorted data back into separate lists\n",
    "validation_losses, validation_accuracy, test_accuracy, epochs = zip(*zipped_data)"
   ]
  },
  {
   "cell_type": "code",
   "execution_count": 16,
   "id": "0f26d57e-a580-49fc-8e32-1cde54ff82eb",
   "metadata": {},
   "outputs": [
    {
     "data": {
      "image/png": "[encoded data removed]",
      "text/plain": [
       "<Figure size 1000x500 with 1 Axes>"
      ]
     },
     "metadata": {},
     "output_type": "display_data"
    }
   ],
   "source": [
    "# Plot validation accuracy vs epochs\n",
    "import matplotlib.pyplot as plt\n",
    "import seaborn as sns\n",
    "\n",
    "\n",
    "# Plot the loss curve\n",
    "plt.rcParams[\"font.family\"] = \"Times New Roman\"\n",
    "\n",
    "sns.set_theme(style='whitegrid', palette='deep', font_scale=1, color_codes=True, rc=None)\n",
    "\n",
    "plt.figure(figsize=(10, 5))\n",
    "plt.plot(epochs, validation_accuracy, label='Validation', marker='o',color='blue')\n",
    "\n",
    "plt.xlabel('Epochs')\n",
    "plt.ylabel('Accuracy')\n",
    "plt.title('Accuracy')\n",
    "plt.legend(loc='lower right')\n",
    "plt.grid(True)\n",
    "#plt.savefig('./assets/accuracy.jpg')\n",
    "plt.show()"
   ]
  },
  {
   "cell_type": "code",
   "execution_count": null,
   "id": "f7f56bbe-955f-4d4a-a58f-d244fa73e076",
   "metadata": {},
   "outputs": [],
   "source": []
  }
 ],
 "metadata": {
  "kernelspec": {
   "display_name": "Python 3 (ipykernel)",
   "language": "python",
   "name": "python3"
  },
  "language_info": {
   "codemirror_mode": {
    "name": "ipython",
    "version": 3
   },
   "file_extension": ".py",
   "mimetype": "text/x-python",
   "name": "python",
   "nbconvert_exporter": "python",
   "pygments_lexer": "ipython3",
   "version": "3.8.0"
  }
 },
 "nbformat": 4,
 "nbformat_minor": 5
}
