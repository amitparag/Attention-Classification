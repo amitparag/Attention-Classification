{
 "cells": [
  {
   "cell_type": "markdown",
   "id": "50f720fb-5000-4f79-89b8-fbd8f875e0bf",
   "metadata": {},
   "source": [
    "### It seems that one video file has more frames in it. Find it, process it"
   ]
  },
  {
   "cell_type": "code",
   "execution_count": 1,
   "id": "bc8d8352-6f88-49b8-83da-2fab5535d544",
   "metadata": {},
   "outputs": [],
   "source": [
    "import os\n",
    "import cv2\n",
    "import numpy as np"
   ]
  },
  {
   "cell_type": "code",
   "execution_count": 33,
   "id": "a17f08d5-fc42-4283-ac01-30d0116f6a34",
   "metadata": {},
   "outputs": [],
   "source": [
    "def check_resolution(video_path, target_width, target_height):\n",
    "    # Open the video file\n",
    "    cap = cv2.VideoCapture(video_path)\n",
    "    \n",
    "    if not cap.isOpened():\n",
    "        return None  # Video file could not be opened\n",
    "\n",
    "    # Get the width and height of the video\n",
    "    width = int(cap.get(cv2.CAP_PROP_FRAME_WIDTH))\n",
    "    height = int(cap.get(cv2.CAP_PROP_FRAME_HEIGHT))\n",
    "    frame_count = int(cap.get(cv2.CAP_PROP_FRAME_COUNT))\n",
    "\n",
    "    try:\n",
    "        assert frame_count == 5\n",
    "    except AssertionError:\n",
    "        print(f\"Frame count is {frame_count} in {video_path}. Deleting the first frame\")\n",
    "        #delete_first_frame_and_overwrite(video_path)\n",
    "    # Check if the resolution matches the target\n",
    "    if width == target_width and height == target_height:\n",
    "        return True  # Resolution is as expected\n",
    "    else:\n",
    "        return False  # Resolution is different"
   ]
  },
  {
   "cell_type": "code",
   "execution_count": 34,
   "id": "f6665e66-f4aa-4d81-822a-e6d272494354",
   "metadata": {},
   "outputs": [],
   "source": [
    "\n",
    "def delete_first_frame_and_overwrite(input_video_path):\n",
    "    cap = cv2.VideoCapture(input_video_path)\n",
    "\n",
    "    if not cap.isOpened():\n",
    "        print(\"Error: Could not open video.\")\n",
    "        return\n",
    "\n",
    "    frame_count = int(cap.get(cv2.CAP_PROP_FRAME_COUNT))\n",
    "\n",
    "    if frame_count <= 1:\n",
    "        print(\"Video has only one frame. Cannot delete the first frame.\")\n",
    "        return\n",
    "\n",
    "    # Get video details\n",
    "    frame_width = int(cap.get(cv2.CAP_PROP_FRAME_WIDTH))\n",
    "    frame_height = int(cap.get(cv2.CAP_PROP_FRAME_HEIGHT))\n",
    "    fps = cap.get(cv2.CAP_PROP_FPS)\n",
    "\n",
    "    fourcc = int(cap.get(cv2.CAP_PROP_FOURCC))\n",
    "\n",
    "    # Create a temporary VideoWriter for the modified video\n",
    "    temp_output_path = 'temp_output_video.mp4'  # Use the same format as the input\n",
    "    out = cv2.VideoWriter(temp_output_path, fourcc, fps, (frame_width, frame_height))\n",
    "\n",
    "    # Skip the first frame\n",
    "    cap.read()\n",
    "\n",
    "    for i in range(1, frame_count):\n",
    "        ret, frame = cap.read()\n",
    "        if not ret:\n",
    "            break\n",
    "        out.write(frame)  # Write all frames except the first one\n",
    "\n",
    "    cap.release()\n",
    "    out.release()\n",
    "\n",
    "    # Replace the original file with the temporary file\n",
    "    os.remove(input_video_path)\n",
    "    os.rename(temp_output_path, input_video_path)"
   ]
  },
  {
   "cell_type": "code",
   "execution_count": 35,
   "id": "f1940761-686f-4dd7-9698-4d80d99ed777",
   "metadata": {},
   "outputs": [],
   "source": [
    "def process_videos_in_folder(folder_path, target_width, target_height):\n",
    "    # List all files in the folder, including subfolders\n",
    "    for root, dirs, files in os.walk(folder_path):\n",
    "        for file in files:\n",
    "            if file.lower().endswith(('.avi')):\n",
    "                video_path = os.path.join(root, file)\n",
    "                result = check_resolution(video_path, target_width, target_height)\n",
    "                if result is None:\n",
    "                    print(f\"Error: Could not open video file: {video_path}\")\n",
    "                elif result:\n",
    "                    print(f\"Video resolution is correct: {video_path}\")\n",
    "                else:\n",
    "                    print(f\"Video resolution is not 320x240: {video_path}\")\n"
   ]
  },
  {
   "cell_type": "code",
   "execution_count": 36,
   "id": "0d514992-b168-4851-bacb-cbfae5b37dd9",
   "metadata": {},
   "outputs": [],
   "source": [
    "folder_path = './dataset/unseen_validation_data/slip/'\n",
    "target_width = 320\n",
    "target_height = 240\n",
    "\n"
   ]
  },
  {
   "cell_type": "code",
   "execution_count": 37,
   "id": "7f2c9e61-2855-4c77-bc42-036a19ad1be8",
   "metadata": {},
   "outputs": [
    {
     "name": "stdout",
     "output_type": "stream",
     "text": [
      "Video resolution is correct: ./dataset/unseen_validation_data/slip/15.avi\n",
      "Video resolution is correct: ./dataset/unseen_validation_data/slip/17.avi\n",
      "Video resolution is correct: ./dataset/unseen_validation_data/slip/14.avi\n",
      "Video resolution is correct: ./dataset/unseen_validation_data/slip/3.avi\n",
      "Video resolution is correct: ./dataset/unseen_validation_data/slip/22.avi\n",
      "Video resolution is correct: ./dataset/unseen_validation_data/slip/20.avi\n",
      "Video resolution is correct: ./dataset/unseen_validation_data/slip/6.avi\n",
      "Video resolution is correct: ./dataset/unseen_validation_data/slip/8.avi\n",
      "Video resolution is correct: ./dataset/unseen_validation_data/slip/21.avi\n",
      "Video resolution is correct: ./dataset/unseen_validation_data/slip/9.avi\n",
      "Video resolution is correct: ./dataset/unseen_validation_data/slip/2.avi\n",
      "Video resolution is correct: ./dataset/unseen_validation_data/slip/4.avi\n",
      "Video resolution is correct: ./dataset/unseen_validation_data/slip/19.avi\n",
      "Video resolution is correct: ./dataset/unseen_validation_data/slip/12.avi\n",
      "Video resolution is correct: ./dataset/unseen_validation_data/slip/18.avi\n",
      "Video resolution is correct: ./dataset/unseen_validation_data/slip/7.avi\n",
      "Video resolution is correct: ./dataset/unseen_validation_data/slip/1.avi\n",
      "Video resolution is correct: ./dataset/unseen_validation_data/slip/13.avi\n",
      "Video resolution is correct: ./dataset/unseen_validation_data/slip/16.avi\n",
      "Video resolution is correct: ./dataset/unseen_validation_data/slip/10.avi\n",
      "Video resolution is correct: ./dataset/unseen_validation_data/slip/11.avi\n"
     ]
    }
   ],
   "source": [
    "process_videos_in_folder(folder_path, target_width, target_height)"
   ]
  },
  {
   "cell_type": "code",
   "execution_count": null,
   "id": "7a9b69e1-c894-4c5c-a492-0cdc858e989f",
   "metadata": {},
   "outputs": [],
   "source": []
  }
 ],
 "metadata": {
  "kernelspec": {
   "display_name": "Python 3 (ipykernel)",
   "language": "python",
   "name": "python3"
  },
  "language_info": {
   "codemirror_mode": {
    "name": "ipython",
    "version": 3
   },
   "file_extension": ".py",
   "mimetype": "text/x-python",
   "name": "python",
   "nbconvert_exporter": "python",
   "pygments_lexer": "ipython3",
   "version": "3.8.0"
  }
 },
 "nbformat": 4,
 "nbformat_minor": 5
}
