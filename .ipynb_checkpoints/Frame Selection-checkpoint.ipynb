{
 "cells": [
  {
   "cell_type": "code",
   "execution_count": 1,
   "id": "19babde8-9d74-4927-bc2d-017f95ef0705",
   "metadata": {},
   "outputs": [],
   "source": [
    "import cv2\n",
    "import os\n",
    "from pathlib import Path\n",
    "import imgaug as ia\n",
    "import imageio\n",
    "from imgaug import augmenters as iaa\n",
    "import shutil\n",
    "import random\n",
    "import matplotlib.pyplot as plt\n",
    "import numpy as np"
   ]
  },
  {
   "cell_type": "code",
   "execution_count": 2,
   "id": "b539094f-acdc-4982-a196-cdfb01c98c5f",
   "metadata": {},
   "outputs": [],
   "source": [
    "wriggle_video_path = './wriggle.avi'\n",
    "wriggle_video_capture = cv2.VideoCapture(wriggle_video_path)\n",
    "\n",
    "slip_video_path = './slip2.avi'\n",
    "slip_video_capture = cv2.VideoCapture(slip_video_path)\n"
   ]
  },
  {
   "cell_type": "code",
   "execution_count": null,
   "id": "037f76a7-c6d2-47d8-85b1-144562a4851e",
   "metadata": {},
   "outputs": [],
   "source": []
  },
  {
   "cell_type": "code",
   "execution_count": 3,
   "id": "54acab0f-fa43-44cc-969e-d56e9163e390",
   "metadata": {},
   "outputs": [],
   "source": [
    "# Function to calculate entropy of an image\n",
    "def calculate_entropy(image):\n",
    "    hist = cv2.calcHist([image], [0], None, [256], [0, 256])\n",
    "    hist = hist / hist.sum()  # Normalize the histogram\n",
    "    hist = hist[hist != 0]  # Remove zero values\n",
    "    entropy = -np.sum(hist * np.log2(hist))\n",
    "    return entropy\n",
    "\n",
    "def calculate_mse(image1, image2):\n",
    "    return np.mean((image1 - image2)**2)"
   ]
  },
  {
   "cell_type": "code",
   "execution_count": null,
   "id": "46f97244-2c22-424d-8689-1230a5c35d54",
   "metadata": {},
   "outputs": [],
   "source": [
    " # Set a threshold for detecting slip events (adjust as needed)\n",
    "threshold = 1\n",
    "\n",
    "# Initialize variables\n",
    "slip_frames = []\n",
    "frame_numbers = []\n",
    "\n",
    "# Iterate through video frames\n",
    "frame_number = 0\n",
    "while True:\n",
    "    ret, frame = cap.read()\n",
    "    \n",
    "    if not ret:\n",
    "        break\n",
    "    \n",
    "    # Convert the frame to grayscale\n",
    "    gray_frame = cv2.cvtColor(frame, cv2.COLOR_BGR2GRAY)\n",
    "    \n",
    "    # Calculate the absolute frame-to-frame difference\n",
    "    if frame_number > 0:\n",
    "        frame_diff = np.abs(gray_frame - previous_frame)\n",
    "        \n",
    "        # Check if the frame difference exceeds the threshold\n",
    "        if np.max(frame_diff) > threshold:\n",
    "            slip_frames.append(frame)\n",
    "            frame_numbers.append(frame_number)\n",
    "    \n",
    "    # Update variables for the next iteration\n",
    "    previous_frame = gray_frame.copy()\n",
    "    frame_number += 1\n",
    "\n",
    "# Release the video capture object\n",
    "cap.release()\n",
    "\n",
    "# Open the video again to display the slipped frames\n",
    "cap = cv2.VideoCapture(slip_video_path)\n",
    "\n",
    "# Iterate through video frames and display the frame when a slip is detected\n",
    "while True:\n",
    "    ret, frame = cap.read()\n",
    "    \n",
    "    if not ret:\n",
    "        break\n",
    "    \n",
    "    if frame_number in frame_numbers:\n",
    "        cv2.putText(frame, \"Slip Detected\", (50, 50), cv2.FONT_HERSHEY_SIMPLEX, 1, (0, 0, 255), 2)\n",
    "    \n",
    "    cv2.imshow('Slip Detection', frame)\n",
    "    cv2.waitKey(1)  # Adjust the delay as needed\n",
    "    \n",
    "    frame_number += 1\n",
    "\n",
    "# Release the video capture object and close the display window\n",
    "cap.release()\n",
    "cv2.destroyAllWindows()\n",
    "\n",
    "# Print the frame numbers where slips occurred\n",
    "print(\"Slip frames:\", frame_numbers)"
   ]
  },
  {
   "cell_type": "code",
   "execution_count": 8,
   "id": "f0ff8843-666c-490b-b0d4-61df7312849a",
   "metadata": {},
   "outputs": [
    {
     "data": {
      "text/plain": [
       "[]"
      ]
     },
     "execution_count": 8,
     "metadata": {},
     "output_type": "execute_result"
    }
   ],
   "source": [
    "slip_frames"
   ]
  },
  {
   "cell_type": "code",
   "execution_count": null,
   "id": "93b369a5-dd9b-42fe-92c9-8c8598cc4784",
   "metadata": {},
   "outputs": [],
   "source": []
  }
 ],
 "metadata": {
  "kernelspec": {
   "display_name": "Python 3 (ipykernel)",
   "language": "python",
   "name": "python3"
  },
  "language_info": {
   "codemirror_mode": {
    "name": "ipython",
    "version": 3
   },
   "file_extension": ".py",
   "mimetype": "text/x-python",
   "name": "python",
   "nbconvert_exporter": "python",
   "pygments_lexer": "ipython3",
   "version": "3.8.0"
  }
 },
 "nbformat": 4,
 "nbformat_minor": 5
}
