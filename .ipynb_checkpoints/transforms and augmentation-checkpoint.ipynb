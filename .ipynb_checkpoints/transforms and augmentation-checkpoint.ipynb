{
 "cells": [
  {
   "cell_type": "code",
   "execution_count": 1,
   "id": "33979b31-ab1c-4ee5-8b9e-85f207af3193",
   "metadata": {},
   "outputs": [],
   "source": [
    "import cv2\n",
    "import os\n",
    "from pathlib import Path\n",
    "import imgaug as ia\n",
    "import imageio\n",
    "from imgaug import augmenters as iaa\n",
    "import shutil\n",
    "import argparse\n",
    "import random"
   ]
  },
  {
   "cell_type": "code",
   "execution_count": 2,
   "id": "159c32b2-bd0a-45c2-91cc-015888146e96",
   "metadata": {},
   "outputs": [
    {
     "ename": "IndentationError",
     "evalue": "unexpected indent (1666215012.py, line 37)",
     "output_type": "error",
     "traceback": [
      "\u001b[0;36m  Cell \u001b[0;32mIn[2], line 37\u001b[0;36m\u001b[0m\n\u001b[0;31m    ],\u001b[0m\n\u001b[0m    ^\u001b[0m\n\u001b[0;31mIndentationError\u001b[0m\u001b[0;31m:\u001b[0m unexpected indent\n"
     ]
    }
   ],
   "source": [
    "\n",
    "sometimes = lambda aug: iaa.Sometimes(0.5, aug)\n",
    "\n",
    "def random_channel_swap(image):\n",
    "    # Randomly shuffle the color channels (R, G, B)\n",
    "    channels = list(range(image.shape[2]))\n",
    "    random.shuffle(channels)\n",
    "    return image[..., channels]\n",
    "\n",
    "def apply_transformations(video_reader, fps, w, h, output_path):\n",
    "\n",
    "\n",
    "    noise_augmentations = [\n",
    "        iaa.AdditiveGaussianNoise(loc=0, scale=(0.0, 0.05*255), per_channel=0.5),\n",
    "        iaa.AdditiveLaplaceNoise(scale=(0.0, 0.05*255), per_channel=0.5),\n",
    "        iaa.SaltAndPepper(0.01),\n",
    "        iaa.Salt(0.01),\n",
    "        iaa.Pepper(0.01)\n",
    "    ]\n",
    "\n",
    "    # Define our sequence of augmentation steps that will be applied to every image.\n",
    "    seq = iaa.Sequential(\n",
    "        [\n",
    "            #\n",
    "            # Apply the following augmenters to most images.\n",
    "            #\n",
    "            iaa.Fliplr(0.5), # horizontally flip 50% of all images\n",
    "            iaa.Flipud(0.2), # vertically flip 20% of all images\n",
    "            random.choice(noise_augmentations),  # Randomly choose one noise augmentation\n",
    "            iaa.ChannelShuffle()\n",
    "    \n",
    "            \n",
    "    \n",
    "                ],\n",
    "                # do all of the above augmentations in random order\n",
    "                random_order=True\n",
    "            )\n",
    "        ],\n",
    "        # do all of the above augmentations in random order\n",
    "        random_order=True\n",
    "    )\n",
    "\n",
    "    \n",
    "\n",
    "    video_writer = cv2.VideoWriter(output_path, cv2.VideoWriter_fourcc(*'XVID'), fps, (w, h))\n",
    "\n",
    "    try:\n",
    "        while video_reader.isOpened():\n",
    "            ret, frame = video_reader.read()\n",
    "            if not ret:\n",
    "                break\n",
    "            augmented_frame = seq.augment_image(frame)\n",
    "            video_writer.write(augmented_frame)\n",
    "    except Exception as e:\n",
    "        print(e)\n",
    "\n",
    "    cv2.destroyAllWindows()\n",
    "    video_reader.release()\n",
    "    video_writer.release()\n",
    "\n",
    "# Example usage:\n",
    "input_video_path = './wriggle.avi'\n",
    "print(\"Processing:\", input_video_path)\n",
    "video_reader = cv2.VideoCapture(input_video_path)\n",
    "fps = int(video_reader.get(cv2.CAP_PROP_FPS))\n",
    "w = int(video_reader.get(cv2.CAP_PROP_FRAME_WIDTH))\n",
    "h = int(video_reader.get(cv2.CAP_PROP_FRAME_HEIGHT))\n",
    "transformed_video_path = './transformed.avi'\n",
    "apply_transformations(video_reader, fps, w, h, transformed_video_path)\n",
    "print(\"Processing Complete\")\n"
   ]
  },
  {
   "cell_type": "markdown",
   "id": "dbac0dcd-afe7-404c-bcdf-770d799bc225",
   "metadata": {},
   "source": []
  },
  {
   "cell_type": "code",
   "execution_count": 5,
   "id": "95673dcb-bb1b-4334-84b0-284c12eec9a5",
   "metadata": {},
   "outputs": [
    {
     "name": "stdout",
     "output_type": "stream",
     "text": [
      "Processing: ./wriggle.avi\n",
      "Processing Complete\n"
     ]
    }
   ],
   "source": [
    "import cv2\n",
    "import imgaug.augmenters as iaa\n",
    "import random\n",
    "\n",
    "def apply_transformations(video_reader, fps, w, h, output_path):\n",
    "    noise_augmentations = [\n",
    "        iaa.AdditiveGaussianNoise(loc=0, scale=(0.0, 0.05*255), per_channel=0.5),\n",
    "        iaa.AdditiveLaplaceNoise(scale=(0.0, 0.05*255), per_channel=0.5),\n",
    "    ]\n",
    "\n",
    "    seq = iaa.Sequential([\n",
    "        iaa.Fliplr(0.5),\n",
    "        iaa.Flipud(0.2),\n",
    "        random.choice(noise_augmentations),\n",
    "        iaa.ChannelShuffle()\n",
    "    ], random_order=True)\n",
    "\n",
    "    video_writer = cv2.VideoWriter(output_path, cv2.VideoWriter_fourcc(*'XVID'), fps, (w, h))\n",
    "\n",
    "    try:\n",
    "        while video_reader.isOpened():\n",
    "            ret, frame = video_reader.read()\n",
    "            if not ret:\n",
    "                break\n",
    "            augmented_frame = seq.augment_image(frame)\n",
    "            video_writer.write(augmented_frame)\n",
    "    except Exception as e:\n",
    "        print(e)\n",
    "\n",
    "    cv2.destroyAllWindows()\n",
    "    video_reader.release()\n",
    "    video_writer.release()\n",
    "\n",
    "# Example usage:\n",
    "input_video_path = './wriggle.avi'\n",
    "print(\"Processing:\", input_video_path)\n",
    "video_reader = cv2.VideoCapture(input_video_path)\n",
    "fps = int(video_reader.get(cv2.CAP_PROP_FPS))\n",
    "w = int(video_reader.get(cv2.CAP_PROP_FRAME_WIDTH))\n",
    "h = int(video_reader.get(cv2.CAP_PROP_FRAME_HEIGHT))\n",
    "transformed_video_path = './transformed.avi'\n",
    "apply_transformations(video_reader, fps, w, h, transformed_video_path)\n",
    "print(\"Processing Complete\")\n"
   ]
  },
  {
   "cell_type": "code",
   "execution_count": null,
   "id": "4a5d78e5-53bf-47f9-ab6c-92d73ce73887",
   "metadata": {},
   "outputs": [],
   "source": []
  }
 ],
 "metadata": {
  "kernelspec": {
   "display_name": "Python 3 (ipykernel)",
   "language": "python",
   "name": "python3"
  },
  "language_info": {
   "codemirror_mode": {
    "name": "ipython",
    "version": 3
   },
   "file_extension": ".py",
   "mimetype": "text/x-python",
   "name": "python",
   "nbconvert_exporter": "python",
   "pygments_lexer": "ipython3",
   "version": "3.8.0"
  }
 },
 "nbformat": 4,
 "nbformat_minor": 5
}
