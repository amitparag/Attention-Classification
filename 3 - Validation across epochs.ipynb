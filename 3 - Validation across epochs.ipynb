{
 "cells": [
  {
   "cell_type": "markdown",
   "id": "bb953600-705d-4c3d-9146-b2bb3ed80cea",
   "metadata": {},
   "source": [
    "### Let's see how validation accuracy increases across epochs"
   ]
  },
  {
   "cell_type": "code",
   "execution_count": 1,
   "id": "2e5818c3-2472-4a50-9ce6-eb63603ba807",
   "metadata": {},
   "outputs": [
    {
     "data": {
      "text/plain": [
       "device(type='cpu')"
      ]
     },
     "execution_count": 1,
     "metadata": {},
     "output_type": "execute_result"
    }
   ],
   "source": [
    "from __future__ import print_function\n",
    "\n",
    "\n",
    "import os\n",
    "import glob\n",
    "import numpy as np\n",
    "import torch\n",
    "import torch.nn as nn\n",
    "from torch.utils.data import DataLoader, Dataset\n",
    "\n",
    "from vit_pytorch.vivit import ViT\n",
    "from training import VideoDataset, data_transform\n",
    "torch.device('cpu')"
   ]
  },
  {
   "cell_type": "code",
   "execution_count": 2,
   "id": "17a74614-e793-413a-8daf-bc743ada770e",
   "metadata": {},
   "outputs": [],
   "source": [
    "## Load the model\n",
    "\n",
    "model = ViT(\n",
    "        image_size = (240,320),          # image size\n",
    "        frames = 450,                    # number of frames\n",
    "        image_patch_size = (80,80),      # image patch size\n",
    "        frame_patch_size = 45,           # frame patch size\n",
    "        num_classes = 2,\n",
    "        dim = 64,\n",
    "        spatial_depth = 3,               # depth of the spatial transformer\n",
    "        temporal_depth = 3,              # depth of the temporal transformer\n",
    "        heads = 4,\n",
    "        mlp_dim = 126\n",
    "    )\n",
    "\n",
    "\n",
    "### Read all files in the checkpoint folder that start with 'checkpoint'\n",
    "checkpoint_folder = './checkpoints'\n",
    "\n",
    "checkpoint_files = glob.glob(f\"{checkpoint_folder}/checkpoint*.pt\")\n"
   ]
  },
  {
   "cell_type": "code",
   "execution_count": 3,
   "id": "91686d8e-d0f0-4646-b630-2e728df5d246",
   "metadata": {},
   "outputs": [
    {
     "data": {
      "text/plain": [
       "['./checkpoints/checkpoint_epoch40.pt',\n",
       " './checkpoints/checkpoint_epoch160.pt',\n",
       " './checkpoints/checkpoint_epoch10.pt',\n",
       " './checkpoints/checkpoint_epoch80.pt',\n",
       " './checkpoints/checkpoint_epoch100.pt',\n",
       " './checkpoints/checkpoint_epoch50.pt',\n",
       " './checkpoints/checkpoint_epoch230.pt',\n",
       " './checkpoints/checkpoint_epoch120.pt',\n",
       " './checkpoints/checkpoint_epoch110.pt',\n",
       " './checkpoints/checkpoint_epoch200.pt',\n",
       " './checkpoints/checkpoint_epoch90.pt',\n",
       " './checkpoints/checkpoint_epoch220.pt',\n",
       " './checkpoints/checkpoint_epoch20.pt',\n",
       " './checkpoints/checkpoint_epoch130.pt',\n",
       " './checkpoints/checkpoint_epoch70.pt',\n",
       " './checkpoints/checkpoint_epoch2.pt',\n",
       " './checkpoints/checkpoint_epoch150.pt',\n",
       " './checkpoints/checkpoint_epoch250.pt',\n",
       " './checkpoints/checkpoint_epoch170.pt',\n",
       " './checkpoints/checkpoint_epoch30.pt',\n",
       " './checkpoints/checkpoint_epoch240.pt',\n",
       " './checkpoints/checkpoint_epoch140.pt',\n",
       " './checkpoints/checkpoint_epoch190.pt',\n",
       " './checkpoints/checkpoint_epoch60.pt',\n",
       " './checkpoints/checkpoint_epoch210.pt',\n",
       " './checkpoints/checkpoint_epoch180.pt']"
      ]
     },
     "execution_count": 3,
     "metadata": {},
     "output_type": "execute_result"
    }
   ],
   "source": [
    "checkpoint_files"
   ]
  },
  {
   "cell_type": "code",
   "execution_count": 4,
   "id": "2a3df347-de2b-4f04-9939-2fb2762f5b06",
   "metadata": {},
   "outputs": [],
   "source": [
    "## Get the validation dataset\n",
    "\n",
    "root_dir    = './dataset/learning'\n",
    "val_dir     = os.path.join(root_dir, 'validation')\n",
    "val_dataset     = VideoDataset(val_dir, transform=data_transform)\n",
    "\n",
    "validation_dataloader   = DataLoader(val_dataset, batch_size=2, shuffle=True, num_workers=0)"
   ]
  },
  {
   "cell_type": "code",
   "execution_count": 5,
   "id": "d4387f25-edb0-46ed-b225-a76002138670",
   "metadata": {},
   "outputs": [
    {
     "name": "stdout",
     "output_type": "stream",
     "text": [
      "Validation Loss: 0.1241\n",
      "Validation Accuracy: 94.94%\n",
      "Validation Loss: 0.3877\n",
      "Validation Accuracy: 96.20%\n",
      "Validation Loss: 0.5260\n",
      "Validation Accuracy: 77.22%\n",
      "Validation Loss: 0.2017\n",
      "Validation Accuracy: 96.20%\n",
      "Validation Loss: 0.2711\n",
      "Validation Accuracy: 96.20%\n",
      "Validation Loss: 0.1105\n",
      "Validation Accuracy: 94.94%\n",
      "Validation Loss: 0.5075\n",
      "Validation Accuracy: 96.20%\n",
      "Validation Loss: 0.3138\n",
      "Validation Accuracy: 96.20%\n",
      "Validation Loss: 0.2933\n",
      "Validation Accuracy: 96.20%\n",
      "Validation Loss: 0.4566\n",
      "Validation Accuracy: 96.20%\n",
      "Validation Loss: 0.2446\n",
      "Validation Accuracy: 96.20%\n",
      "Validation Loss: 0.4906\n",
      "Validation Accuracy: 96.20%\n",
      "Validation Loss: 0.2222\n",
      "Validation Accuracy: 91.14%\n",
      "Validation Loss: 0.3331\n",
      "Validation Accuracy: 96.20%\n",
      "Validation Loss: 0.1338\n",
      "Validation Accuracy: 94.94%\n",
      "Validation Loss: 0.5356\n",
      "Validation Accuracy: 77.22%\n",
      "Validation Loss: 0.3699\n",
      "Validation Accuracy: 96.20%\n",
      "Validation Loss: 0.5412\n",
      "Validation Accuracy: 96.20%\n",
      "Validation Loss: 0.4052\n",
      "Validation Accuracy: 96.20%\n",
      "Validation Loss: 0.2988\n",
      "Validation Accuracy: 86.08%\n",
      "Validation Loss: 0.5246\n",
      "Validation Accuracy: 96.20%\n",
      "Validation Loss: 0.3518\n",
      "Validation Accuracy: 96.20%\n",
      "Validation Loss: 0.4395\n",
      "Validation Accuracy: 96.20%\n",
      "Validation Loss: 0.2979\n",
      "Validation Accuracy: 91.14%\n",
      "Validation Loss: 0.4736\n",
      "Validation Accuracy: 96.20%\n",
      "Validation Loss: 0.4224\n",
      "Validation Accuracy: 96.20%\n"
     ]
    }
   ],
   "source": [
    "## Calculate validation losses and accuracy along with epoch stamp\n",
    "\n",
    "validation_losses = []\n",
    "validation_accuracy = []\n",
    "epochs = []\n",
    "\n",
    "\n",
    "criterion = nn.CrossEntropyLoss()\n",
    "\n",
    "\n",
    "for checkpoint_file in checkpoint_files:\n",
    "\n",
    "    # Load the checkpoint\n",
    "    checkpoint  = torch.load(checkpoint_file)\n",
    "    checkpoint_epochs = checkpoint['epoch']\n",
    "\n",
    "\n",
    "    model.load_state_dict(checkpoint['model_state_dict'])\n",
    "\n",
    "    \n",
    "    model.eval()  # Set the model to evaluation mode\n",
    "    \n",
    "    # Initialize variables to keep track of accuracy and loss\n",
    "    total_samples = 0\n",
    "    correct_predictions = 0\n",
    "    total_loss = 0.0\n",
    "    \n",
    "    with torch.no_grad():\n",
    "        for inputs, labels in validation_dataloader:\n",
    "    \n",
    "    \n",
    "            # Forward pass\n",
    "            outputs = model(inputs)\n",
    "            loss = criterion(outputs, labels)\n",
    "    \n",
    "            # Calculate accuracy\n",
    "            _, predicted = torch.max(outputs, 1)\n",
    "            total_samples += labels.size(0)\n",
    "            correct_predictions += (predicted == labels).sum().item()\n",
    "            total_loss += loss.item()\n",
    "    \n",
    "    # Calculate accuracy and loss\n",
    "    accuracy = correct_predictions / total_samples\n",
    "    average_loss = total_loss / len(validation_dataloader)\n",
    "    epochs.append(checkpoint_epochs)\n",
    "    validation_losses.append(average_loss)\n",
    "    validation_accuracy.append(accuracy)\n",
    "    print(f\"Validation Loss: {average_loss:.4f}\")\n",
    "    print(f\"Validation Accuracy: {accuracy * 100:.2f}%\")"
   ]
  },
  {
   "cell_type": "code",
   "execution_count": 6,
   "id": "5cc6782f-b577-4f66-b738-93a01b40f40d",
   "metadata": {},
   "outputs": [],
   "source": [
    "import matplotlib.pyplot as plt\n",
    "import seaborn as sns\n",
    "\n",
    "\n",
    "# Plot the loss curve\n",
    "plt.rcParams[\"font.family\"] = \"Times New Roman\"\n",
    "\n",
    "sns.set_theme(style='whitegrid', palette='deep', font_scale=1, color_codes=True, rc=None)"
   ]
  },
  {
   "cell_type": "code",
   "execution_count": 7,
   "id": "d185d188-30df-426b-a754-03355250ddc8",
   "metadata": {},
   "outputs": [],
   "source": [
    "## Sort the lists according to epochs \n",
    "\n",
    "\n",
    "# Zip the lists together based on epochs\n",
    "zipped_data = list(zip(validation_losses, validation_accuracy, epochs))\n",
    "\n",
    "# Sort the zipped data based on epochs (ascending order)\n",
    "zipped_data.sort(key=lambda x: x[-1])  # Assuming epochs are the last element in the tuple\n",
    "\n",
    "# Unzip the sorted data back into separate lists\n",
    "validation_losses, validation_accuracy, epochs = zip(*zipped_data)"
   ]
  },
  {
   "cell_type": "code",
   "execution_count": 8,
   "id": "8ab5922f-d79b-458a-ad7f-dabb309e9ff1",
   "metadata": {},
   "outputs": [],
   "source": [
    "#plt.figure(figsize=(10, 5))\n",
    "#plt.plot(epochs, validation_losses, label='Validation Loss', marker='o')\n",
    "#plt.xlabel('Epochs')\n",
    "#plt.ylabel('Validation Loss')\n",
    "#plt.title('Validation Loss vs Epochs')\n",
    "#plt.legend()\n",
    "#plt.grid(True)\n",
    "#plt.show()"
   ]
  },
  {
   "cell_type": "code",
   "execution_count": 9,
   "id": "69201709-8781-4261-b322-038d2e9eacbd",
   "metadata": {},
   "outputs": [
    {
     "data": {
      "image/png": "[encoded data removed]",
      "text/plain": [
       "<Figure size 1000x500 with 1 Axes>"
      ]
     },
     "metadata": {},
     "output_type": "display_data"
    }
   ],
   "source": [
    "# Plot validation accuracy vs epochs\n",
    "plt.figure(figsize=(10, 5))\n",
    "plt.plot(epochs, validation_accuracy, label='Validation Accuracy', marker='o', color='green')\n",
    "plt.xlabel('Epochs')\n",
    "plt.ylabel('Validation Accuracy')\n",
    "plt.title('Validation Accuracy vs Epochs')\n",
    "plt.legend(loc='lower right')\n",
    "plt.grid(True)\n",
    "plt.savefig('validation_accuracy.jpg')\n",
    "plt.show()"
   ]
  },
  {
   "cell_type": "code",
   "execution_count": null,
   "id": "14065017-f819-4156-8cd7-c2f215e72e23",
   "metadata": {},
   "outputs": [],
   "source": []
  }
 ],
 "metadata": {
  "kernelspec": {
   "display_name": "Python 3 (ipykernel)",
   "language": "python",
   "name": "python3"
  },
  "language_info": {
   "codemirror_mode": {
    "name": "ipython",
    "version": 3
   },
   "file_extension": ".py",
   "mimetype": "text/x-python",
   "name": "python",
   "nbconvert_exporter": "python",
   "pygments_lexer": "ipython3",
   "version": "3.8.0"
  }
 },
 "nbformat": 4,
 "nbformat_minor": 5
}
