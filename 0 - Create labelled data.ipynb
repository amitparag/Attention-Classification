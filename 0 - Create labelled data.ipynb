{
 "cells": [
  {
   "cell_type": "markdown",
   "id": "5a0cf5b6-fd37-4518-93f6-2c4443ff6b0f",
   "metadata": {},
   "source": [
    "### First make labelled data folder"
   ]
  },
  {
   "cell_type": "code",
   "execution_count": 1,
   "id": "a79af138-43b3-4387-9c4f-dcddccb1bfed",
   "metadata": {},
   "outputs": [],
   "source": [
    "import os\n",
    "import shutil\n",
    "import uuid"
   ]
  },
  {
   "cell_type": "code",
   "execution_count": 2,
   "id": "688c7ad9-edb6-427c-ab12-349248aea445",
   "metadata": {},
   "outputs": [],
   "source": [
    "root_dir = './dataset/learning'\n",
    "base_data_dir = os.path.join(root_dir, 'base_data')\n",
    "slip_dir = os.path.join(root_dir, 'slip')\n",
    "wriggle_dir = os.path.join(root_dir, 'wriggle')"
   ]
  },
  {
   "cell_type": "code",
   "execution_count": 3,
   "id": "8f34de15-1dd0-4477-b1f1-bfd6e2ed1fed",
   "metadata": {},
   "outputs": [],
   "source": [
    "# Create 'slip' and 'wriggle' directories if they don't exist\n",
    "os.makedirs(slip_dir, exist_ok=True)\n",
    "os.makedirs(wriggle_dir, exist_ok=True)"
   ]
  },
  {
   "cell_type": "code",
   "execution_count": 6,
   "id": "f1529814-8133-456b-849c-6c2d9a62cebc",
   "metadata": {},
   "outputs": [],
   "source": [
    "def copy_or_move_with_uuid(src, dst, is_copy=True):\n",
    "    unique_filename = str(uuid.uuid4()) + os.path.splitext(src)[-1]\n",
    "    destination_path = os.path.join(dst, unique_filename)\n",
    "    if is_copy:\n",
    "        shutil.copy(src, destination_path)\n",
    "    else:\n",
    "        shutil.move(src, destination_path)\n"
   ]
  },
  {
   "cell_type": "code",
   "execution_count": 7,
   "id": "526c0d17-93bf-4c4a-a74a-d4ead0703104",
   "metadata": {},
   "outputs": [
    {
     "name": "stdout",
     "output_type": "stream",
     "text": [
      "Organizing complete.\n"
     ]
    }
   ],
   "source": [
    "# Recursively search for \"left.avi\" and \"right.avi\" files in base_data_dir\n",
    "for root, _, files in os.walk(base_data_dir):\n",
    "    if \"left.avi\" in files or \"right.avi\" in files:\n",
    "        if \"slip.txt\" in files:\n",
    "            \n",
    "            # Copy \"left.avi\" and \"right.avi\" to 'slip' directory\n",
    "            copy_or_move_with_uuid(os.path.join(root, \"left.avi\"), slip_dir, is_copy=True)\n",
    "            copy_or_move_with_uuid(os.path.join(root, \"right.avi\"), slip_dir, is_copy=True)\n",
    "        else:\n",
    "            # Move \"left.avi\" and \"right.avi\" to 'wriggle' directory\n",
    "            copy_or_move_with_uuid(os.path.join(root, \"left.avi\"), wriggle_dir, is_copy=True)\n",
    "            copy_or_move_with_uuid(os.path.join(root, \"right.avi\"), wriggle_dir, is_copy=True)\n",
    "            #print(\"wriggle\",files)\n",
    "print(\"Organizing complete.\")"
   ]
  },
  {
   "cell_type": "code",
   "execution_count": null,
   "id": "062a54c5-fa25-43d6-bfc5-806104cce78f",
   "metadata": {},
   "outputs": [],
   "source": []
  }
 ],
 "metadata": {
  "kernelspec": {
   "display_name": "Python 3 (ipykernel)",
   "language": "python",
   "name": "python3"
  },
  "language_info": {
   "codemirror_mode": {
    "name": "ipython",
    "version": 3
   },
   "file_extension": ".py",
   "mimetype": "text/x-python",
   "name": "python",
   "nbconvert_exporter": "python",
   "pygments_lexer": "ipython3",
   "version": "3.8.0"
  }
 },
 "nbformat": 4,
 "nbformat_minor": 5
}
